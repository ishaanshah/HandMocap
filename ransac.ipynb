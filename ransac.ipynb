{
 "cells": [
  {
   "cell_type": "code",
   "execution_count": 1,
   "id": "72355eb2-a7db-452c-ab8e-5bc19550091c",
   "metadata": {},
   "outputs": [],
   "source": [
    "%load_ext autoreload\n",
    "%autoreload 2\n",
    "\n",
    "import cv2\n",
    "import numpy as np\n",
    "import json\n",
    "import pickle\n",
    "import joblib\n",
    "import os\n",
    "from skimage.measure import ransac\n",
    "from src.triangulate import triangulate_joints, simple_processor, ransac_processor\n",
    "from src.utils import plot_keypoints, reprojection_error"
   ]
  },
  {
   "cell_type": "markdown",
   "id": "eb9f1ee0-9b4f-4a0a-8af9-9d237d4eb9c3",
   "metadata": {},
   "source": [
    "# Define run parameters"
   ]
  },
  {
   "cell_type": "code",
   "execution_count": 2,
   "id": "d72a5474-4a4c-484b-bc3a-c680a44d3b33",
   "metadata": {},
   "outputs": [],
   "source": [
    "# Parameters\n",
    "params = joblib.load(\"./hands_maximo/calib/cam_data.pkl\")\n",
    "frame = \"00000\"\n",
    "root_dir = \"./hands_maximo\"\n",
    "handedness = \"right\"\n",
    "conf_thresh_start = 0.75\n",
    "min_tri_kp = 10"
   ]
  },
  {
   "cell_type": "markdown",
   "id": "fff238a1-af80-42e2-82d0-aa25b85d959a",
   "metadata": {},
   "source": [
    "# Create projection matrices"
   ]
  },
  {
   "cell_type": "code",
   "execution_count": 3,
   "id": "54f883b7-3964-4cf1-8ddc-d1353f7dbc36",
   "metadata": {},
   "outputs": [],
   "source": [
    "proj_mats = {}\n",
    "for cam_name, cam_param in params[str(int(frame))].items():\n",
    "    K =  np.identity(3)\n",
    "    K[0,0] = cam_param['K'][0]\n",
    "    K[1,1] = cam_param['K'][1]\n",
    "    K[0,2] = cam_param['K'][2]\n",
    "    K[1,2] = cam_param['K'][3]\n",
    "    proj_mats[cam_name] = K @ cam_param['extrinsics_opencv']"
   ]
  },
  {
   "cell_type": "markdown",
   "id": "93e32390-0430-4ff9-b343-6dcf98bb5844",
   "metadata": {},
   "source": [
    "# Get 2D keypoints"
   ]
  },
  {
   "cell_type": "code",
   "execution_count": 4,
   "id": "38b589f4-beb7-43a9-8e2d-8ee18260dfdb",
   "metadata": {},
   "outputs": [],
   "source": [
    "keypoints = {}\n",
    "for cam_name in proj_mats.keys():\n",
    "    with open(f\"{root_dir}/keypoints_2d/{cam_name}/{frame}.json\", \"r\") as f:\n",
    "        data = json.load(f)\n",
    "        keypoints[cam_name] = np.array(data['people'][0][f'hand_{handedness}_keypoints_2d']).reshape(-1, 3)\n",
    "\n",
    "num_joints = keypoints[cam_name].shape[0]"
   ]
  },
  {
   "cell_type": "markdown",
   "id": "7044d2bc-868d-4cb6-8aad-6a2e78fbe8a0",
   "metadata": {},
   "source": [
    "# Triangulate\n",
    "## Naive Triangulation"
   ]
  },
  {
   "cell_type": "code",
   "execution_count": 5,
   "id": "eb5ffd6e-f371-44f6-afcc-def3d877ce04",
   "metadata": {
    "tags": []
   },
   "outputs": [
    {
     "name": "stdout",
     "output_type": "stream",
     "text": [
      "6.0111525230986205\n"
     ]
    }
   ],
   "source": [
    "keypoints3d, residuals = triangulate_joints(keypoints, proj_mats, processor=simple_processor)\n",
    "print(residuals.mean())"
   ]
  },
  {
   "cell_type": "markdown",
   "id": "c7e3af4f-9fd9-4ee5-975a-7fb95371eb9e",
   "metadata": {},
   "source": [
    "## RANSAC Triangulation"
   ]
  },
  {
   "cell_type": "code",
   "execution_count": 6,
   "id": "f7f30e0a-ef66-4aaf-a43f-123fce4f5389",
   "metadata": {},
   "outputs": [
    {
     "name": "stdout",
     "output_type": "stream",
     "text": [
      "5.429630254000197\n"
     ]
    }
   ],
   "source": [
    "keypoints3d, residuals = triangulate_joints(keypoints, proj_mats, processor=ransac_processor, residual_threshold=10, min_samples=5)\n",
    "print(residuals.mean())"
   ]
  },
  {
   "cell_type": "code",
   "execution_count": null,
   "id": "206f4592-7978-4adc-b4ea-eb8286c01939",
   "metadata": {},
   "outputs": [],
   "source": []
  }
 ],
 "metadata": {
  "kernelspec": {
   "display_name": "Python 3 (ipykernel)",
   "language": "python",
   "name": "python3"
  },
  "language_info": {
   "codemirror_mode": {
    "name": "ipython",
    "version": 3
   },
   "file_extension": ".py",
   "mimetype": "text/x-python",
   "name": "python",
   "nbconvert_exporter": "python",
   "pygments_lexer": "ipython3",
   "version": "3.10.2"
  }
 },
 "nbformat": 4,
 "nbformat_minor": 5
}
