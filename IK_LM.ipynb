{
 "cells": [
  {
   "cell_type": "code",
   "execution_count": 1,
   "id": "25926cb8-f8a9-4288-bfe2-28c1df745659",
   "metadata": {},
   "outputs": [],
   "source": [
    "import jax.numpy as jnp\n",
    "import jax\n",
    "import plotly.graph_objects as go\n",
    "import json\n",
    "from jaxlie import SO3\n",
    "from scipy.spatial.transform import Rotation"
   ]
  },
  {
   "cell_type": "code",
   "execution_count": 2,
   "id": "8a246cd5-15b9-49cc-a26a-1644e1ffae6c",
   "metadata": {},
   "outputs": [],
   "source": [
    "class KinematicChain:\n",
    "    def __init__(self, bones, root):\n",
    "        self.bones = bones\n",
    "        self.root = root\n",
    "        self.rest_angles = [[0., 0., 0., 0.] for i in range(len(bones))]\n",
    "        for _, bone in bones.items():\n",
    "            bone_idx = bone[\"idx\"]\n",
    "            self.rest_angles[bone_idx] = bone[\"quat\"]\n",
    "        self.rest_angles = jnp.array(self.rest_angles)\n",
    "    \n",
    "    def forward(self, angles=None):\n",
    "        if angles is None:\n",
    "            angles = self.rest_angles\n",
    "            \n",
    "        joints = jnp.zeros((len(self.bones)+1, 3), dtype=float)\n",
    "        stk = [(self.root, jnp.array([0, 0, 0]), jnp.array([0, 0, 1]))]\n",
    "        while len(stk):\n",
    "            bone_name, loc, vec = stk.pop()\n",
    "            bone_idx = self.bones[bone_name][\"idx\"]\n",
    "            r = SO3(wxyz=jnp.array(angles[bone_idx]))\n",
    "            dir_vec = r.apply(vec)\n",
    "            dir_vec = dir_vec / jnp.linalg.norm(dir_vec)\n",
    "            joints = joints.at[bone_idx+1].set(dir_vec*self.bones[bone_name][\"len\"] + loc)\n",
    "            for child in self.bones[bone_name][\"child\"]:\n",
    "                stk.append((child, joints[bone_idx+1], dir_vec))\n",
    "        \n",
    "        return joints\n",
    "    \n",
    "    def IK(self, target, max_iter, mse_threshold, init=None):\n",
    "        num_bones = len(self.bones)\n",
    "        num_joints = num_bones+1\n",
    "        if init is None:\n",
    "            init = self.rest_angles\n",
    "\n",
    "        u = 1e-3\n",
    "        v = 1.5\n",
    "        last_update = 0\n",
    "        last_mse = 0\n",
    "        params = init\n",
    "        for i in range(max_iter):\n",
    "            residual = (self.forward(params) - target).reshape(num_joints*3, 1)\n",
    "            j = jax.jacrev(self.forward)(params).reshape(num_joints*3, num_bones, 4).reshape(num_joints*3, -1)\n",
    "            mse = jnp.mean(jnp.square(residual))\n",
    "            \n",
    "            if abs(mse - last_mse) < mse_threshold:\n",
    "                return params\n",
    "            \n",
    "            jtj = jnp.matmul(j.T, j)\n",
    "            jtj = jtj + u * jnp.eye(jtj.shape[0])\n",
    "            \n",
    "            update = last_mse - mse\n",
    "            delta = jnp.matmul(\n",
    "                jnp.matmul(jnp.linalg.inv(jtj), j.T), residual\n",
    "            ).ravel()\n",
    "            params -= delta.reshape(num_bones, 4)\n",
    "\n",
    "            if update > last_update and update > 0:\n",
    "                u /= v\n",
    "            else:\n",
    "                u *= v\n",
    "\n",
    "            last_update = update\n",
    "            last_mse = mse\n",
    "\n",
    "            print(f\"Iteration {i}: {mse}\")\n",
    "\n",
    "        return params"
   ]
  },
  {
   "cell_type": "code",
   "execution_count": 7,
   "id": "0cef9429-7076-4054-ae57-e42fa34b126d",
   "metadata": {},
   "outputs": [],
   "source": [
    "def plot(predicted, target):\n",
    "    bounds = jnp.maximum(predicted, target)\n",
    "    min_ = bounds.min()\n",
    "    max_ = bounds.max()\n",
    "    fig= go.Figure(\n",
    "        [\n",
    "            go.Scatter3d(\n",
    "                x=predicted[:,0],\n",
    "                y=predicted[:,1],\n",
    "                z=predicted[:,2],\n",
    "                mode='markers'\n",
    "            ),\n",
    "            go.Scatter3d(\n",
    "                x=target[:,0],\n",
    "                y=target[:,1],\n",
    "                z=target[:,2],\n",
    "                mode='markers'\n",
    "            )\n",
    "        ]\n",
    "    )\n",
    "    fig.update_layout(scene_aspectmode='cube')\n",
    "    fig.update_layout(scene=dict(\n",
    "        xaxis = dict(range=[-2, 2]),\n",
    "        yaxis = dict(range=[-2, 2]),\n",
    "        zaxis = dict(range=[-2, 2])\n",
    "    ))\n",
    "    fig.write_html(\"keypoints.html\")"
   ]
  },
  {
   "cell_type": "code",
   "execution_count": 4,
   "id": "460ed3b3-66a0-4314-9045-b6479ef72b19",
   "metadata": {},
   "outputs": [
    {
     "name": "stderr",
     "output_type": "stream",
     "text": [
      "WARNING:absl:No GPU/TPU found, falling back to CPU. (Set TF_CPP_MIN_LOG_LEVEL=0 and rerun for more info.)\n"
     ]
    }
   ],
   "source": [
    "with open(\"./rest_hand.json\", \"r\") as f:\n",
    "    bones = json.load(f)\n",
    "\n",
    "chain = KinematicChain(bones[\"bones\"], bones[\"root\"])"
   ]
  },
  {
   "cell_type": "code",
   "execution_count": 5,
   "id": "3c1349ea-eb9e-4805-9e69-f32f6fa6201e",
   "metadata": {},
   "outputs": [],
   "source": [
    "joints = chain.forward()"
   ]
  },
  {
   "cell_type": "code",
   "execution_count": 8,
   "id": "92a7ad51-dd23-4ca3-a090-193c484d4acc",
   "metadata": {},
   "outputs": [
    {
     "name": "stdout",
     "output_type": "stream",
     "text": [
      "Iteration 0: 0.0015547601506114006\n",
      "Iteration 1: 0.0003543452185112983\n",
      "Iteration 2: 8.447992149740458e-05\n",
      "Iteration 3: 2.9204022212070413e-05\n",
      "Iteration 4: 1.7335587472189218e-05\n",
      "Iteration 5: 1.2771195542882197e-05\n",
      "Iteration 6: 9.997445886256173e-06\n",
      "Iteration 7: 8.385212822759058e-06\n",
      "Iteration 8: 7.448848009516951e-06\n",
      "Iteration 9: 6.889071755722398e-06\n",
      "Iteration 10: 6.544075858982978e-06\n",
      "Iteration 11: 6.326258699118625e-06\n",
      "Iteration 12: 6.186321570567088e-06\n",
      "Iteration 13: 6.095340722822584e-06\n",
      "Iteration 14: 6.035690603312105e-06\n",
      "Iteration 15: 5.9963722378597595e-06\n",
      "Iteration 16: 5.970351139694685e-06\n",
      "Iteration 17: 5.953091203991789e-06\n",
      "Iteration 18: 5.941621566307731e-06\n",
      "Iteration 19: 5.933995453233365e-06\n",
      "Iteration 20: 5.9289186538080685e-06\n",
      "Iteration 21: 5.925538516748929e-06\n",
      "Iteration 22: 5.923285243625287e-06\n",
      "Iteration 23: 5.921786851104116e-06\n",
      "Iteration 24: 5.920781404711306e-06\n"
     ]
    }
   ],
   "source": [
    "with open(\"target.json\", \"r\") as f:\n",
    "    target = jnp.array(json.load(f))\n",
    "\n",
    "angles = chain.IK(target, max_iter=100, mse_threshold=1e-9)\n",
    "pred = chain.forward(angles)\n",
    "plot(pred, joints)"
   ]
  },
  {
   "cell_type": "code",
   "execution_count": null,
   "id": "bf6bd516-8d82-4f42-9887-af294cd37651",
   "metadata": {},
   "outputs": [],
   "source": []
  }
 ],
 "metadata": {
  "kernelspec": {
   "display_name": "Python 3 (ipykernel)",
   "language": "python",
   "name": "python3"
  },
  "language_info": {
   "codemirror_mode": {
    "name": "ipython",
    "version": 3
   },
   "file_extension": ".py",
   "mimetype": "text/x-python",
   "name": "python",
   "nbconvert_exporter": "python",
   "pygments_lexer": "ipython3",
   "version": "3.10.4"
  }
 },
 "nbformat": 4,
 "nbformat_minor": 5
}
